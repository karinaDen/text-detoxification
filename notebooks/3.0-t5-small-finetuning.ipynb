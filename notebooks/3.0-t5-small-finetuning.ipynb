{
 "cells": [
  {
   "cell_type": "code",
   "execution_count": 6,
   "metadata": {},
   "outputs": [
    {
     "name": "stdout",
     "output_type": "stream",
     "text": [
      "Downloading...\n",
      "From (uriginal): https://drive.google.com/uc?id=1TS2FeNofbu_bydF3AaxcszcWs6htSk-G\n",
      "From (redirected): https://drive.google.com/uc?id=1TS2FeNofbu_bydF3AaxcszcWs6htSk-G&confirm=t&uuid=95be458e-c97c-4d91-96bd-79c792bee5aa\n",
      "To: /home/karinochka/Innopolis/text-detoxification/models/t5-small/best-model.zip\n",
      "100%|████████████████████████████████████████| 226M/226M [00:42<00:00, 5.32MB/s]\n"
     ]
    }
   ],
   "source": [
    "!python ../src/data/load_weights.py \n"
   ]
  }
 ],
 "metadata": {
  "kernelspec": {
   "display_name": "base",
   "language": "python",
   "name": "python3"
  },
  "language_info": {
   "codemirror_mode": {
    "name": "ipython",
    "version": 3
   },
   "file_extension": ".py",
   "mimetype": "text/x-python",
   "name": "python",
   "nbconvert_exporter": "python",
   "pygments_lexer": "ipython3",
   "version": "3.10.9"
  }
 },
 "nbformat": 4,
 "nbformat_minor": 2
}
